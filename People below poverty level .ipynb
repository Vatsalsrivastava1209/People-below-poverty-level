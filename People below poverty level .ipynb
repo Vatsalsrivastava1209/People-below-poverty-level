{
 "cells": [
  {
   "cell_type": "code",
   "execution_count": 3,
   "id": "3e4da466-7ab3-45aa-b1d0-cf38031d59f0",
   "metadata": {},
   "outputs": [],
   "source": [
    "import pandas as pd\n",
    "import seaborn as sns \n",
    "import matplotlib.pyplot as plt "
   ]
  },
  {
   "cell_type": "code",
   "execution_count": 4,
   "id": "62002594-feba-48c7-bb32-5addaf01850e",
   "metadata": {},
   "outputs": [
    {
     "name": "stdout",
     "output_type": "stream",
     "text": [
      "  Geographic Area             City poverty_rate\n",
      "0              AL       Abanda CDP         78.8\n",
      "1              AL   Abbeville city         29.1\n",
      "2              AL  Adamsville city         25.5\n",
      "3              AL     Addison town         30.7\n",
      "4              AL       Akron town           42\n"
     ]
    }
   ],
   "source": [
    "\n",
    "\n",
    "df = pd.read_csv(\"Pct_People_Below_Poverty_Level.csv\")\n",
    "\n",
    "print(df.head())"
   ]
  },
  {
   "cell_type": "code",
   "execution_count": null,
   "id": "47f70313-6a4c-47eb-a350-157536e2b62f",
   "metadata": {},
   "outputs": [],
   "source": []
  }
 ],
 "metadata": {
  "kernelspec": {
   "display_name": "Python [conda env:base] *",
   "language": "python",
   "name": "conda-base-py"
  },
  "language_info": {
   "codemirror_mode": {
    "name": "ipython",
    "version": 3
   },
   "file_extension": ".py",
   "mimetype": "text/x-python",
   "name": "python",
   "nbconvert_exporter": "python",
   "pygments_lexer": "ipython3",
   "version": "3.12.7"
  }
 },
 "nbformat": 4,
 "nbformat_minor": 5
}
